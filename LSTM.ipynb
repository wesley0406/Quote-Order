{
 "cells": [
  {
   "cell_type": "code",
   "execution_count": 2,
   "metadata": {},
   "outputs": [
    {
     "data": {
      "text/plain": [
       "600893"
      ]
     },
     "execution_count": 2,
     "metadata": {},
     "output_type": "execute_result"
    }
   ],
   "source": [
    "import keras\n",
    "import numpy as np \n",
    "path=keras.utils.get_file(\"n1.txt\",origin=\"https://s3.amazonaws.com/text-datasets/nietzsche.txt\")\n",
    "text=open(path,encoding=\"utf-8\").read().lower()\n",
    "len(text)"
   ]
  },
  {
   "cell_type": "code",
   "execution_count": 3,
   "metadata": {},
   "outputs": [
    {
     "data": {
      "text/plain": [
       "200278"
      ]
     },
     "execution_count": 3,
     "metadata": {},
     "output_type": "execute_result"
    }
   ],
   "source": [
    "maxlen=60\n",
    "step=3\n",
    "sentence=[]\n",
    "next_chars=[]\n",
    "\n",
    "for i in range(0,len(text)-maxlen,step):\n",
    "    sentence.append(text[i:i+maxlen])\n",
    "    next_chars.append(text[i+maxlen])\n",
    "len(sentence)"
   ]
  },
  {
   "cell_type": "code",
   "execution_count": 6,
   "metadata": {},
   "outputs": [],
   "source": [
    "chars=sorted(list(set(text)))\n"
   ]
  },
  {
   "cell_type": "code",
   "execution_count": 8,
   "metadata": {},
   "outputs": [],
   "source": [
    "char_indices=dict((char,chars.index(char))for char in chars)"
   ]
  },
  {
   "cell_type": "code",
   "execution_count": 11,
   "metadata": {},
   "outputs": [
    {
     "data": {
      "text/plain": [
       "((200278, 60, 57), (200278, 57))"
      ]
     },
     "execution_count": 11,
     "metadata": {},
     "output_type": "execute_result"
    }
   ],
   "source": [
    "x=np.zeros((len(sentence),maxlen,len(chars)),dtype=np.bool)\n",
    "y=np.zeros((len(sentence),len(chars)),dtype=np.bool)\n",
    "for i,sentence in enumerate(sentence):\n",
    "    for t,char in enumerate(sentence):\n",
    "        x[i,t,char_indices[char]]=1\n",
    "    y[i,char_indices[next_chars[i]]]=1\n",
    "x.shape,y.shape"
   ]
  },
  {
   "cell_type": "code",
   "execution_count": 18,
   "metadata": {},
   "outputs": [],
   "source": [
    "from keras import layers,models,optimizers\n",
    "\n",
    "model=models.Sequential()\n",
    "model.add(layers.LSTM(128,input_shape=(maxlen,len(chars))))\n",
    "model.add(layers.Dense(len(chars),activation=\"softmax\"))\n",
    "\n",
    "model.compile(optimizer=optimizers.RMSprop(0.001),loss=\"categorical_crossentropy\")"
   ]
  },
  {
   "cell_type": "code",
   "execution_count": null,
   "metadata": {},
   "outputs": [],
   "source": []
  }
 ],
 "metadata": {
  "kernelspec": {
   "display_name": "Python 3",
   "language": "python",
   "name": "python3"
  },
  "language_info": {
   "codemirror_mode": {
    "name": "ipython",
    "version": 3
   },
   "file_extension": ".py",
   "mimetype": "text/x-python",
   "name": "python",
   "nbconvert_exporter": "python",
   "pygments_lexer": "ipython3",
   "version": "3.6.7rc2"
  }
 },
 "nbformat": 4,
 "nbformat_minor": 2
}
