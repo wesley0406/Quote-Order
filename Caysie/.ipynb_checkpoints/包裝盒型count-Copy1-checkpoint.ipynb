{
 "cells": [
  {
   "cell_type": "code",
   "execution_count": 1,
   "id": "bf7489ff-2e90-4e15-8893-4159fb33542a",
   "metadata": {},
   "outputs": [],
   "source": [
    "import pandas as pd\n",
    "import numpy as np\n",
    "from math import pi\n",
    "\n",
    "# Load the Excel file\n",
    "excel_path = r\"包裝測試.xlsx\"  # Replace with your file path\n",
    "df = pd.read_excel(excel_path, sheet_name='SDS PAN')\n",
    "import pandas as pd\n",
    "\n",
    "# Extract header rows\n",
    "box_codes = df.iloc[0, 1:].values\n",
    "box_sizes = df.iloc[1, 1:].values\n",
    "screw_sizes = df.iloc[2:, 0].values\n",
    "\n",
    "# Initialize list for cleaned data\n",
    "clean_data = []\n",
    "\n",
    "# Helper function to classify codes\n",
    "def FIND_BOX(code_str):\n",
    "    s_code, n_code, other_codes = None, None, []\n",
    "    for part in str(code_str).split('\\n'):\n",
    "        if part.startswith('S') and not s_code:\n",
    "            s_code = part\n",
    "        elif part.startswith('N') and not n_code:\n",
    "            n_code = part\n",
    "        else:\n",
    "            other_codes.append(part)\n",
    "    other_1 = other_codes[0] if len(other_codes) > 0 else None\n",
    "    other_2 = other_codes[1] if len(other_codes) > 1 else None\n",
    "    return s_code, n_code, other_1, other_2\n",
    "    \n",
    "        # Process the data\n",
    "for i, screw_size in enumerate(screw_sizes):\n",
    "    for j, cell in enumerate(df.iloc[i + 2, 1:]):  # Offset by 2 for header rows\n",
    "        if pd.notna(cell):\n",
    "            value = str(cell)\n",
    "            quantity = value.split('-')[0]  # Only extract quantity\n",
    "\n",
    "            # Sort codes into proper columns\n",
    "            code1, code2, code3, code4 = FIND_BOX(box_codes[j])\n",
    "\n",
    "            clean_data.append({\n",
    "                \"Screw Size\": screw_size,\n",
    "                \"Quantity\": int(quantity),\n",
    "                \"S Box\": code1,\n",
    "                \"N Box\": code2,\n",
    "                \"Other Box 1\": code3,\n",
    "                \"Other Box 1\": code4,\n",
    "                \"Box Size\": box_sizes[j],\n",
    "            })\n",
    "\n",
    "# Convert to DataFrame\n",
    "df_clean = pd.DataFrame(clean_data)\n",
    "# print(df_clean.to_excel(\"test2.xlsx\"))"
   ]
  },
  {
   "cell_type": "code",
   "execution_count": 2,
   "id": "dbc0c2c9-6a4e-44bd-b9ec-bda735f2a672",
   "metadata": {},
   "outputs": [
    {
     "data": {
      "text/plain": [
       "0      5.40\n",
       "1      6.70\n",
       "2      6.70\n",
       "3      6.70\n",
       "4      6.70\n",
       "      ...  \n",
       "76    12.25\n",
       "77    12.25\n",
       "78    12.25\n",
       "79    12.25\n",
       "80    12.25\n",
       "Name: head_dia, Length: 81, dtype: float64"
      ]
     },
     "execution_count": 2,
     "metadata": {},
     "output_type": "execute_result"
    }
   ],
   "source": [
    "# Get Screw Volume\n",
    "\n",
    "head_info = pd.read_excel(r\"head size.xlsx\")\n",
    "split_size = df_clean[\"Screw Size\"].str.lower().str.split('x', expand=True)\n",
    "df_clean['thread_dia'] = split_size[0].astype(float)\n",
    "df_clean['thread_len'] = split_size[1].astype(float)\n",
    "\n",
    "# Function to look up head_dia and head_height for a given diameter\n",
    "def get_head_volume(dia):\n",
    "        row = head_info.loc[head_info['size'] == dia]\n",
    "        if not row.empty:\n",
    "            head_dia = row.iloc[0]['head_dia']\n",
    "            head_height = row.iloc[0]['head_height']\n",
    "            return pi * (head_dia / 2) ** 2 * head_height\n",
    "        return 0  # Return 0 if no matching head info\n",
    "\n",
    "    # Compute volumes\n",
    "df_clean['head_dia'] = df_clean['thread_dia'].apply(lambda x: head_info.loc[head_info['size'] == x, 'head_dia'].iloc[0] if not head_info.loc[head_info['size'] == x].empty else None)\n",
    "df_clean['head_volume'] = df_clean['thread_dia'].apply(get_head_volume)\n",
    "df_clean['thread_volume'] = pi * (df_clean['thread_dia'] / 2) ** 2 * df_clean['thread_len']\n",
    "df_clean[\"screw_volume\"] = df_clean['head_volume'] + df_clean['thread_volume']\n",
    "df_clean['head_dia']"
   ]
  },
  {
   "cell_type": "code",
   "execution_count": 3,
   "id": "0f244f1d-6eb3-469b-9e20-bdeece317a88",
   "metadata": {},
   "outputs": [
    {
     "name": "stdout",
     "output_type": "stream",
     "text": [
      "None\n"
     ]
    }
   ],
   "source": [
    "#Get Emptiness Ratio\n",
    "\n",
    "split_box = df_clean[\"Box Size\"].str.lower().str.split('x',expand=True)\n",
    "df_clean['box_volume'] = split_box[0].astype(float)*split_box[1].astype(float)*split_box[2].astype(float)\n",
    "df_clean[\"packing_volume\"] = df_clean[\"screw_volume\"]*df_clean[\"Quantity\"]\n",
    "df_clean['emptiness'] = (1-(df_clean['box_volume']-df_clean[\"packing_volume\"])/df_clean['box_volume'])*100\n",
    "df_clean[\"dia:len\"] = df_clean['head_dia']/df_clean['thread_len']"
   ]
  },
  {
   "cell_type": "code",
   "execution_count": 9,
   "id": "44d5869b-4673-4782-91f1-24f4a49f16f8",
   "metadata": {},
   "outputs": [
    {
     "name": "stdout",
     "output_type": "stream",
     "text": [
      "Intercept (c):  269187.76340086\n",
      "Coefficient for x (b):  4.8555789807339604e-11\n",
      "Coefficient for x² (a):  1.3196779146864959e-05\n"
     ]
    }
   ],
   "source": [
    "from sklearn.linear_model import LinearRegression\n",
    "from sklearn.preprocessing import PolynomialFeatures\n",
    "import matplotlib.pyplot as plt\n",
    "import numpy as np\n",
    "\n",
    "# Assuming df_clean is your DataFrame\n",
    "x = df_clean[\"packing_volume\"].values.reshape(-1, 1)\n",
    "y = df_clean['box_volume'].to_list()\n",
    "\n",
    "# Create polynomial features (1, x, x²)\n",
    "poly = PolynomialFeatures(degree = 4, include_bias=False)\n",
    "x_poly = poly.fit_transform(x)  # Creates [x, x²]\n",
    "\n",
    "# Fit the linear regression model\n",
    "regressor = LinearRegression()\n",
    "regressor.fit(x_poly, y)\n",
    "predicted_volumes = regressor.predict(x_poly)\n",
    "\n",
    "# Get the intercept and coefficients\n",
    "w_0 = regressor.intercept_  # c\n",
    "w_1, w_2, w_3, w_4 = regressor.coef_  # w_1 is for x (b), w_2 is for x² (a)\n",
    "\n",
    "print('Intercept (c): ', w_0)\n",
    "print('Coefficient for x (b): ', w_1)\n",
    "print('Coefficient for x² (a): ', w_2)"
   ]
  },
  {
   "cell_type": "code",
   "execution_count": 10,
   "id": "d8ee5f0c-2041-423a-b937-6eb2c23b4922",
   "metadata": {},
   "outputs": [
    {
     "data": {
      "image/png": "[encoded data removed]",
      "text/plain": [
       "<Figure size 640x480 with 1 Axes>"
      ]
     },
     "metadata": {},
     "output_type": "display_data"
    }
   ],
   "source": [
    "x_fit = np.linspace(min(x), max(x), 100).reshape(-1, 1)  # Smooth x values for plotting\n",
    "x_fit_poly = poly.transform(x_fit)  # Transform to [x, x²]\n",
    "y_fit = regressor.predict(x_fit_poly)  # Predict y values for the curve\n",
    "\n",
    "# Create scatter plot and plot the fitted curve\n",
    "plt.scatter(x, y, color='blue', label='Data points')  # Scatter plot of data\n",
    "plt.plot(x_fit, y_fit, color='red', label='Fitted quadratic curve')  # Fitted curve\n",
    "plt.xlabel('Packing Volume')\n",
    "plt.ylabel('Box Volume')\n",
    "plt.title(f'Quadratic Fit: y = {w_2}x² + {w_1}x + {w_0}c')\n",
    "plt.legend()\n",
    "plt.grid(True)\n",
    "plt.show()"
   ]
  },
  {
   "cell_type": "code",
   "execution_count": 21,
   "id": "10f2bb91",
   "metadata": {},
   "outputs": [
    {
     "data": {
      "text/html": [
       "<div>\n",
       "<style scoped>\n",
       "    .dataframe tbody tr th:only-of-type {\n",
       "        vertical-align: middle;\n",
       "    }\n",
       "\n",
       "    .dataframe tbody tr th {\n",
       "        vertical-align: top;\n",
       "    }\n",
       "\n",
       "    .dataframe thead th {\n",
       "        text-align: right;\n",
       "    }\n",
       "</style>\n",
       "<table border=\"1\" class=\"dataframe\">\n",
       "  <thead>\n",
       "    <tr style=\"text-align: right;\">\n",
       "      <th></th>\n",
       "      <th>S Box</th>\n",
       "      <th>Box Size</th>\n",
       "      <th>box_volume</th>\n",
       "    </tr>\n",
       "  </thead>\n",
       "  <tbody>\n",
       "    <tr>\n",
       "      <th>0</th>\n",
       "      <td>S2</td>\n",
       "      <td>90x68x55</td>\n",
       "      <td>336600.0</td>\n",
       "    </tr>\n",
       "    <tr>\n",
       "      <th>2</th>\n",
       "      <td>S3</td>\n",
       "      <td>95x90x60</td>\n",
       "      <td>513000.0</td>\n",
       "    </tr>\n",
       "    <tr>\n",
       "      <th>3</th>\n",
       "      <td>S4</td>\n",
       "      <td>135x90x60</td>\n",
       "      <td>729000.0</td>\n",
       "    </tr>\n",
       "    <tr>\n",
       "      <th>5</th>\n",
       "      <td>S6</td>\n",
       "      <td>180x90x90</td>\n",
       "      <td>1458000.0</td>\n",
       "    </tr>\n",
       "    <tr>\n",
       "      <th>9</th>\n",
       "      <td>S5</td>\n",
       "      <td>135x90x90</td>\n",
       "      <td>1093500.0</td>\n",
       "    </tr>\n",
       "    <tr>\n",
       "      <th>32</th>\n",
       "      <td>None</td>\n",
       "      <td>230x90x90</td>\n",
       "      <td>1863000.0</td>\n",
       "    </tr>\n",
       "    <tr>\n",
       "      <th>36</th>\n",
       "      <td>S7</td>\n",
       "      <td>190x130x90</td>\n",
       "      <td>2223000.0</td>\n",
       "    </tr>\n",
       "    <tr>\n",
       "      <th>53</th>\n",
       "      <td>None</td>\n",
       "      <td>180x90x110</td>\n",
       "      <td>1782000.0</td>\n",
       "    </tr>\n",
       "    <tr>\n",
       "      <th>57</th>\n",
       "      <td>S8</td>\n",
       "      <td>230x130x90</td>\n",
       "      <td>2691000.0</td>\n",
       "    </tr>\n",
       "  </tbody>\n",
       "</table>\n",
       "</div>"
      ],
      "text/plain": [
       "   S Box    Box Size  box_volume\n",
       "0     S2    90x68x55    336600.0\n",
       "2     S3    95x90x60    513000.0\n",
       "3     S4   135x90x60    729000.0\n",
       "5     S6   180x90x90   1458000.0\n",
       "9     S5   135x90x90   1093500.0\n",
       "32  None   230x90x90   1863000.0\n",
       "36    S7  190x130x90   2223000.0\n",
       "53  None  180x90x110   1782000.0\n",
       "57    S8  230x130x90   2691000.0"
      ]
     },
     "execution_count": 21,
     "metadata": {},
     "output_type": "execute_result"
    }
   ],
   "source": [
    "box_table = df_clean[[\"S Box\", \"Box Size\", \"box_volume\"]].drop_duplicates()\n",
    "box_table"
   ]
  },
  {
   "cell_type": "code",
   "execution_count": 25,
   "id": "848f61b5",
   "metadata": {
    "scrolled": true
   },
   "outputs": [
    {
     "name": "stdout",
     "output_type": "stream",
     "text": [
      "\n",
      "Updated DataFrame with predictions and closest box volumes:\n",
      "   Screw Size  Quantity S Box_x N Box Other Box 1  Box Size_x  thread_dia  \\\n",
      "0      2.9x13      1000      S2  None         K01    90x68x55         2.9   \n",
      "1     3.5x9.5      1000      S2  None         K01    90x68x55         3.5   \n",
      "2     3.5x9.5      1000      S3   N1A          K2    95x90x60         3.5   \n",
      "3     3.5x9.5      1000      S4  None          B2   135x90x60         3.5   \n",
      "4      3.5x13      1000      S3   N1A          K2    95x90x60         3.5   \n",
      "..        ...       ...     ...   ...         ...         ...         ...   \n",
      "76     6.3x16       500      S5   N4A          K3   135x90x90         6.3   \n",
      "77     6.3x19       500      S6   N5A          K4   180x90x90         6.3   \n",
      "78     6.3x25       500      S6   N5A          K4   180x90x90         6.3   \n",
      "79     6.3x32       500      S7  None        None  190x130x90         6.3   \n",
      "80    6.3x100       100      S5   N4A          K3   135x90x90         6.3   \n",
      "\n",
      "    thread_len  head_dia  head_volume  ...  screw_volume  box_volume_x  \\\n",
      "0         13.0      5.40    38.933758  ...    124.801339      336600.0   \n",
      "1          9.5      6.70    74.038699  ...    165.439411      336600.0   \n",
      "2          9.5      6.70    74.038699  ...    165.439411      513000.0   \n",
      "3          9.5      6.70    74.038699  ...    165.439411      729000.0   \n",
      "4         13.0      6.70    74.038699  ...    199.113357      513000.0   \n",
      "..         ...       ...          ...  ...           ...           ...   \n",
      "76        16.0     12.25   447.863485  ...    946.622735     1093500.0   \n",
      "77        19.0     12.25   447.863485  ...   1040.140094     1458000.0   \n",
      "78        25.0     12.25   447.863485  ...   1227.174813     1458000.0   \n",
      "79        32.0     12.25   447.863485  ...   1445.381985     2223000.0   \n",
      "80       100.0     12.25   447.863485  ...   3565.108796     1093500.0   \n",
      "\n",
      "    packing_volume  emptiness   dia:len  predicted_box_volume  \\\n",
      "0    124801.338960  37.077047  0.415385          3.746008e+05   \n",
      "1    165439.410731  49.150152  0.705263          5.326944e+05   \n",
      "2    165439.410731  32.249398  0.705263          5.326944e+05   \n",
      "3    165439.410731  22.694021  0.705263          5.326944e+05   \n",
      "4    199113.356986  38.813520  0.515385          6.592716e+05   \n",
      "..             ...        ...       ...                   ...   \n",
      "76   473311.367442  43.284076  0.765625          1.540715e+06   \n",
      "77   520070.047100  35.670099  0.644737          1.664495e+06   \n",
      "78   613587.406416  42.084184  0.490000          1.888864e+06   \n",
      "79   722690.992284  32.509716  0.382812          2.111544e+06   \n",
      "80   356510.879572  32.602732  0.122500          1.197747e+06   \n",
      "\n",
      "    closest_box_volume  box_volume_y  S Box_y  Box Size_y  \n",
      "0             336600.0      336600.0       S2    90x68x55  \n",
      "1             513000.0      513000.0       S3    95x90x60  \n",
      "2             513000.0      513000.0       S3    95x90x60  \n",
      "3             513000.0      513000.0       S3    95x90x60  \n",
      "4             729000.0      729000.0       S4   135x90x60  \n",
      "..                 ...           ...      ...         ...  \n",
      "76           1458000.0     1458000.0       S6   180x90x90  \n",
      "77           1782000.0     1782000.0     None  180x90x110  \n",
      "78           1863000.0     1863000.0     None   230x90x90  \n",
      "79           2223000.0     2223000.0       S7  190x130x90  \n",
      "80           1093500.0     1093500.0       S5   135x90x90  \n",
      "\n",
      "[81 rows x 21 columns]\n"
     ]
    }
   ],
   "source": [
    "# Available box volumes from the table\n",
    "available_box_volumes = box_table['box_volume'].values\n",
    "\n",
    "# Find the closest box volume for each predicted volume\n",
    "closest_volumes = [min(available_box_volumes, key=lambda v: abs(v - pred)) for pred in predicted_volumes]\n",
    "\n",
    "# Create a copy of df_clean to add new columns\n",
    "df_clean_with_predictions = df_clean.copy()\n",
    "df_clean_with_predictions['predicted_box_volume'] = predicted_volumes\n",
    "df_clean_with_predictions['closest_box_volume'] = closest_volumes\n",
    "\n",
    "# Merge with box_table to get box names and sizes for closest volumes\n",
    "df_clean_with_predictions = df_clean_with_predictions.merge(\n",
    "    box_table[['box_volume', 'S Box', 'Box Size']],\n",
    "    left_on='closest_box_volume',\n",
    "    right_on='box_volume',\n",
    "    how='left'\n",
    ")# Drop redundant column\n",
    "\n",
    "# Rename columns for clarity\n",
    "df_clean_with_predictions = df_clean_with_predictions.rename(columns={\n",
    "    'Box': 'closest_box_name',\n",
    "    'Box Size': 'closest_box_size'\n",
    "})\n",
    "df_clean_with_predictions.to_excel(\"volume_result.xlsx\")"
   ]
  },
  {
   "cell_type": "code",
   "execution_count": null,
   "id": "4488f30c",
   "metadata": {},
   "outputs": [],
   "source": []
  }
 ],
 "metadata": {
  "kernelspec": {
   "display_name": "Python 3 (ipykernel)",
   "language": "python",
   "name": "python3"
  },
  "language_info": {
   "codemirror_mode": {
    "name": "ipython",
    "version": 3
   },
   "file_extension": ".py",
   "mimetype": "text/x-python",
   "name": "python",
   "nbconvert_exporter": "python",
   "pygments_lexer": "ipython3",
   "version": "3.11.1"
  },
  "widgets": {
   "application/vnd.jupyter.widget-state+json": {
    "state": {},
    "version_major": 2,
    "version_minor": 0
   }
  }
 },
 "nbformat": 4,
 "nbformat_minor": 5
}
