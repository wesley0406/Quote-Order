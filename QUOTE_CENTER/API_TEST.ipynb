{
 "cells": [
  {
   "cell_type": "code",
   "execution_count": 1,
   "id": "13ca9193",
   "metadata": {},
   "outputs": [
    {
     "name": "stdout",
     "output_type": "stream",
     "text": [
      "{'A': [1, 2, 3], 'B': [4, 5, 6]}\n"
     ]
    }
   ],
   "source": [
    "# Original dictionary\n",
    "original_dict = {\"A\": {\"a\": 1, \"b\": 2, \"c\": 3}, \"B\": {\"d\": 4, \"e\": 5, \"f\": 6}}\n",
    "\n",
    "# Transforming the dictionary\n",
    "transformed_dict = {key: list(value.values()) for key, value in original_dict.items()}\n",
    "\n",
    "print(transformed_dict)\n"
   ]
  },
  {
   "cell_type": "code",
   "execution_count": null,
   "id": "196d3221",
   "metadata": {},
   "outputs": [],
   "source": []
  }
 ],
 "metadata": {
  "kernelspec": {
   "display_name": "Python 3 (ipykernel)",
   "language": "python",
   "name": "python3"
  },
  "language_info": {
   "codemirror_mode": {
    "name": "ipython",
    "version": 3
   },
   "file_extension": ".py",
   "mimetype": "text/x-python",
   "name": "python",
   "nbconvert_exporter": "python",
   "pygments_lexer": "ipython3",
   "version": "3.11.1"
  }
 },
 "nbformat": 4,
 "nbformat_minor": 5
}
