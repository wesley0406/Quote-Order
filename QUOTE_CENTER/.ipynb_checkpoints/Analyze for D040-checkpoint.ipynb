{
 "cells": [
  {
   "cell_type": "code",
   "execution_count": 1,
   "id": "13ca9193",
   "metadata": {},
   "outputs": [],
   "source": [
    "import cx_Oracle\n",
    "import pandas as pd \n",
    "import sqlite3\n",
    "import plotly\n",
    "def FETCH_DATA():\n",
    "    # Define connection details\n",
    "    dsn = cx_Oracle.makedsn(\n",
    "        host = \"192.168.1.242\",      # Replace with your host IP or domain\n",
    "        port = 1526,                # Replace with your port\n",
    "        service_name = \"sperpdb\"  # Replace with your service name\n",
    "    )\n",
    "\n",
    "    # Establish the connection\n",
    "    connection = cx_Oracle.connect(\n",
    "        user = \"spselect\",         # Replace with your username\n",
    "        password = \"select\",     # Replace with your password\n",
    "        dsn = dsn\n",
    "    )\n",
    "    cursor = connection.cursor()\n",
    "    TARGET_COLUMN = [\"SC_NO\",   # 公司SC號碼\n",
    "                \"KIND_NO\",     # 訂單項次\n",
    "                \"CST_PART_NO\", # 產品代號\n",
    "                \"PDC_1\",       # 生產圖號\n",
    "                \"PDC_2\",       # 螺絲規格-1\n",
    "                \"PDC_3\",       # 螺絲規格-2\n",
    "                \"PDC_4\",       # 螺絲種類\n",
    "                \"PDC_5\",       # 變異碼(串華司 鏈帶 頭噴....)\n",
    "                \"MARK_NO\",     # 頭記\n",
    "                \"HT_NO\",       # 熱處理代號\n",
    "                \"FIN_NO\",      # 表面處理代號\n",
    "                \"SALT_SPRAY\",  # 鹽測小時數\n",
    "                \"DLV_DATE\",    # 訂單交期\n",
    "                \"VEN_DLV_DATE\",# 生管交期\n",
    "                \"QTY_PER_CTN\", # 每箱數量\n",
    "                \"KEGS\",        # 訂單箱數\n",
    "                \"ORDER_QTY1\",  # 訂單量(自訂義)\n",
    "                \"ORDER_QTY\",   # 訂單量(M)\n",
    "                \"ORDER_WEIG\",  # 訂單項次公斤總重\n",
    "                \"PRICE\",       # 訂單單價(/M)\n",
    "                \"ORDER_AMT\",   # 訂單項次總價\n",
    "                \"PLT_QTY\",     # 棧板數\n",
    "                \"COST_PRICE\",  # 成本單價(NTD/M)\n",
    "                \"COST_AMT\",    # 項次總成本\n",
    "                \"WIR_KIND\",    # 線材總類(1022, 1006, 10B21)\n",
    "                \"PDC_1000_WT\", # 單重\n",
    "                \"DRAW_NO\",     # 圖號\n",
    "                \"SAMPLE_TYPE\", # 是否需要樣品\n",
    "                \"SAMPLE_QTY\",  # 客戶樣品支數\n",
    "                \"SAMPLE_DLV_DATE\",  # 樣品交期\n",
    "                \"CREA_DATE\",    # 訂單日期\n",
    "                \"CST_JOB_NO\"    # 指定批號\n",
    "                 ]\n",
    "    #query = f\"SELECT {', '.join(TARGET_COLUMN)} FROM ssl_cst_orde_d\"\n",
    "    query = f\"SELECT * FROM ssl_cst_orde_d\n",
    "    df = pd.read_sql_query(query, connection)\n",
    "    df2 = pd.read_sql_query(\"SELECT SC_NO, ORD_CST_NO FROM ssl_cst_orde_m\", connection)\n",
    "    connection.close()\n",
    "    return df2.merge(df, on = \"SC_NO\") \n"
   ]
  },
  {
   "cell_type": "code",
   "execution_count": 7,
   "id": "196d3221",
   "metadata": {},
   "outputs": [
    {
     "name": "stderr",
     "output_type": "stream",
     "text": [
      "C:\\Users\\wesley\\AppData\\Local\\Temp\\ipykernel_16472\\4048234354.py:54: UserWarning: pandas only supports SQLAlchemy connectable (engine/connection) or database string URI or sqlite3 DBAPI2 connection. Other DBAPI2 objects are not tested. Please consider using SQLAlchemy.\n",
      "  df = pd.read_sql_query(query, connection)\n",
      "C:\\Users\\wesley\\AppData\\Local\\Temp\\ipykernel_16472\\4048234354.py:55: UserWarning: pandas only supports SQLAlchemy connectable (engine/connection) or database string URI or sqlite3 DBAPI2 connection. Other DBAPI2 objects are not tested. Please consider using SQLAlchemy.\n",
      "  df2 = pd.read_sql_query(\"SELECT SC_NO, ORD_CST_NO FROM ssl_cst_orde_m\", connection)\n"
     ]
    },
    {
     "ename": "KeyError",
     "evalue": "\"Column(s) ['CST_NO'] do not exist\"",
     "output_type": "error",
     "traceback": [
      "\u001b[1;31m---------------------------------------------------------------------------\u001b[0m",
      "\u001b[1;31mKeyError\u001b[0m                                  Traceback (most recent call last)",
      "Cell \u001b[1;32mIn[7], line 14\u001b[0m\n\u001b[0;32m     11\u001b[0m b \u001b[38;5;241m=\u001b[39m qutoe_data_fetch(\u001b[38;5;124m\"\u001b[39m\u001b[38;5;124mD09000\u001b[39m\u001b[38;5;124m\"\u001b[39m)\n\u001b[0;32m     12\u001b[0m b[\u001b[38;5;124m\"\u001b[39m\u001b[38;5;124mQUANTITY\u001b[39m\u001b[38;5;124m\"\u001b[39m] \u001b[38;5;241m=\u001b[39m b[\u001b[38;5;124m\"\u001b[39m\u001b[38;5;124mQUANTITY\u001b[39m\u001b[38;5;124m\"\u001b[39m]\u001b[38;5;241m.\u001b[39mreplace(\u001b[38;5;124m\"\u001b[39m\u001b[38;5;124m-\u001b[39m\u001b[38;5;124m\"\u001b[39m,\u001b[38;5;124m\"\u001b[39m\u001b[38;5;124m100\u001b[39m\u001b[38;5;124m\"\u001b[39m)\u001b[38;5;241m.\u001b[39mreplace(\u001b[38;5;124m\"\u001b[39m\u001b[38;5;124m0\u001b[39m\u001b[38;5;124m\"\u001b[39m,\u001b[38;5;124m\"\u001b[39m\u001b[38;5;124m100\u001b[39m\u001b[38;5;124m\"\u001b[39m)\n\u001b[1;32m---> 14\u001b[0m order_sum \u001b[38;5;241m=\u001b[39m \u001b[43ma\u001b[49m\u001b[38;5;241;43m.\u001b[39;49m\u001b[43mgroupby\u001b[49m\u001b[43m(\u001b[49m\u001b[38;5;124;43m\"\u001b[39;49m\u001b[38;5;124;43mCST_PART_NO\u001b[39;49m\u001b[38;5;124;43m\"\u001b[39;49m\u001b[43m)\u001b[49m\u001b[38;5;241;43m.\u001b[39;49m\u001b[43magg\u001b[49m\u001b[43m(\u001b[49m\u001b[43m{\u001b[49m\n\u001b[0;32m     15\u001b[0m \u001b[43m    \u001b[49m\u001b[38;5;124;43m\"\u001b[39;49m\u001b[38;5;124;43mORDER_QTY\u001b[39;49m\u001b[38;5;124;43m\"\u001b[39;49m\u001b[43m \u001b[49m\u001b[43m:\u001b[49m\u001b[43m \u001b[49m\u001b[38;5;124;43m\"\u001b[39;49m\u001b[38;5;124;43msum\u001b[39;49m\u001b[38;5;124;43m\"\u001b[39;49m\u001b[43m,\u001b[49m\n\u001b[0;32m     16\u001b[0m \u001b[43m    \u001b[49m\u001b[38;5;124;43m\"\u001b[39;49m\u001b[38;5;124;43mORDER_WEIG\u001b[39;49m\u001b[38;5;124;43m\"\u001b[39;49m\u001b[43m \u001b[49m\u001b[43m:\u001b[49m\u001b[43m \u001b[49m\u001b[38;5;124;43m\"\u001b[39;49m\u001b[38;5;124;43msum\u001b[39;49m\u001b[38;5;124;43m\"\u001b[39;49m\u001b[43m,\u001b[49m\n\u001b[0;32m     17\u001b[0m \u001b[43m    \u001b[49m\u001b[38;5;124;43m\"\u001b[39;49m\u001b[38;5;124;43mCST_NO\u001b[39;49m\u001b[38;5;124;43m\"\u001b[39;49m\u001b[43m \u001b[49m\u001b[43m:\u001b[49m\u001b[43m \u001b[49m\u001b[38;5;124;43m\"\u001b[39;49m\u001b[38;5;124;43mfirst\u001b[39;49m\u001b[38;5;124;43m\"\u001b[39;49m\n\u001b[0;32m     18\u001b[0m \u001b[43m}\u001b[49m\u001b[43m)\u001b[49m\u001b[38;5;241m.\u001b[39mreset_index()\n\u001b[0;32m     20\u001b[0m \u001b[38;5;28mprint\u001b[39m(order_sum)\n",
      "File \u001b[1;32m~\\AppData\\Local\\Programs\\Python\\Python311\\Lib\\site-packages\\pandas\\core\\groupby\\generic.py:1445\u001b[0m, in \u001b[0;36mDataFrameGroupBy.aggregate\u001b[1;34m(self, func, engine, engine_kwargs, *args, **kwargs)\u001b[0m\n\u001b[0;32m   1442\u001b[0m     kwargs[\u001b[38;5;124m\"\u001b[39m\u001b[38;5;124mengine_kwargs\u001b[39m\u001b[38;5;124m\"\u001b[39m] \u001b[38;5;241m=\u001b[39m engine_kwargs\n\u001b[0;32m   1444\u001b[0m op \u001b[38;5;241m=\u001b[39m GroupByApply(\u001b[38;5;28mself\u001b[39m, func, args\u001b[38;5;241m=\u001b[39margs, kwargs\u001b[38;5;241m=\u001b[39mkwargs)\n\u001b[1;32m-> 1445\u001b[0m result \u001b[38;5;241m=\u001b[39m \u001b[43mop\u001b[49m\u001b[38;5;241;43m.\u001b[39;49m\u001b[43magg\u001b[49m\u001b[43m(\u001b[49m\u001b[43m)\u001b[49m\n\u001b[0;32m   1446\u001b[0m \u001b[38;5;28;01mif\u001b[39;00m \u001b[38;5;129;01mnot\u001b[39;00m is_dict_like(func) \u001b[38;5;129;01mand\u001b[39;00m result \u001b[38;5;129;01mis\u001b[39;00m \u001b[38;5;129;01mnot\u001b[39;00m \u001b[38;5;28;01mNone\u001b[39;00m:\n\u001b[0;32m   1447\u001b[0m     \u001b[38;5;66;03m# GH #52849\u001b[39;00m\n\u001b[0;32m   1448\u001b[0m     \u001b[38;5;28;01mif\u001b[39;00m \u001b[38;5;129;01mnot\u001b[39;00m \u001b[38;5;28mself\u001b[39m\u001b[38;5;241m.\u001b[39mas_index \u001b[38;5;129;01mand\u001b[39;00m is_list_like(func):\n",
      "File \u001b[1;32m~\\AppData\\Local\\Programs\\Python\\Python311\\Lib\\site-packages\\pandas\\core\\apply.py:175\u001b[0m, in \u001b[0;36mApply.agg\u001b[1;34m(self)\u001b[0m\n\u001b[0;32m    172\u001b[0m     \u001b[38;5;28;01mreturn\u001b[39;00m \u001b[38;5;28mself\u001b[39m\u001b[38;5;241m.\u001b[39mapply_str()\n\u001b[0;32m    174\u001b[0m \u001b[38;5;28;01mif\u001b[39;00m is_dict_like(func):\n\u001b[1;32m--> 175\u001b[0m     \u001b[38;5;28;01mreturn\u001b[39;00m \u001b[38;5;28;43mself\u001b[39;49m\u001b[38;5;241;43m.\u001b[39;49m\u001b[43magg_dict_like\u001b[49m\u001b[43m(\u001b[49m\u001b[43m)\u001b[49m\n\u001b[0;32m    176\u001b[0m \u001b[38;5;28;01melif\u001b[39;00m is_list_like(func):\n\u001b[0;32m    177\u001b[0m     \u001b[38;5;66;03m# we require a list, but not a 'str'\u001b[39;00m\n\u001b[0;32m    178\u001b[0m     \u001b[38;5;28;01mreturn\u001b[39;00m \u001b[38;5;28mself\u001b[39m\u001b[38;5;241m.\u001b[39magg_list_like()\n",
      "File \u001b[1;32m~\\AppData\\Local\\Programs\\Python\\Python311\\Lib\\site-packages\\pandas\\core\\apply.py:406\u001b[0m, in \u001b[0;36mApply.agg_dict_like\u001b[1;34m(self)\u001b[0m\n\u001b[0;32m    398\u001b[0m \u001b[38;5;28;01mdef\u001b[39;00m \u001b[38;5;21magg_dict_like\u001b[39m(\u001b[38;5;28mself\u001b[39m) \u001b[38;5;241m-\u001b[39m\u001b[38;5;241m>\u001b[39m DataFrame \u001b[38;5;241m|\u001b[39m Series:\n\u001b[0;32m    399\u001b[0m \u001b[38;5;250m    \u001b[39m\u001b[38;5;124;03m\"\"\"\u001b[39;00m\n\u001b[0;32m    400\u001b[0m \u001b[38;5;124;03m    Compute aggregation in the case of a dict-like argument.\u001b[39;00m\n\u001b[0;32m    401\u001b[0m \n\u001b[1;32m   (...)\u001b[0m\n\u001b[0;32m    404\u001b[0m \u001b[38;5;124;03m    Result of aggregation.\u001b[39;00m\n\u001b[0;32m    405\u001b[0m \u001b[38;5;124;03m    \"\"\"\u001b[39;00m\n\u001b[1;32m--> 406\u001b[0m     \u001b[38;5;28;01mreturn\u001b[39;00m \u001b[38;5;28;43mself\u001b[39;49m\u001b[38;5;241;43m.\u001b[39;49m\u001b[43magg_or_apply_dict_like\u001b[49m\u001b[43m(\u001b[49m\u001b[43mop_name\u001b[49m\u001b[38;5;241;43m=\u001b[39;49m\u001b[38;5;124;43m\"\u001b[39;49m\u001b[38;5;124;43magg\u001b[39;49m\u001b[38;5;124;43m\"\u001b[39;49m\u001b[43m)\u001b[49m\n",
      "File \u001b[1;32m~\\AppData\\Local\\Programs\\Python\\Python311\\Lib\\site-packages\\pandas\\core\\apply.py:1388\u001b[0m, in \u001b[0;36mGroupByApply.agg_or_apply_dict_like\u001b[1;34m(self, op_name)\u001b[0m\n\u001b[0;32m   1383\u001b[0m     kwargs\u001b[38;5;241m.\u001b[39mupdate({\u001b[38;5;124m\"\u001b[39m\u001b[38;5;124mengine\u001b[39m\u001b[38;5;124m\"\u001b[39m: engine, \u001b[38;5;124m\"\u001b[39m\u001b[38;5;124mengine_kwargs\u001b[39m\u001b[38;5;124m\"\u001b[39m: engine_kwargs})\n\u001b[0;32m   1385\u001b[0m \u001b[38;5;28;01mwith\u001b[39;00m com\u001b[38;5;241m.\u001b[39mtemp_setattr(\n\u001b[0;32m   1386\u001b[0m     obj, \u001b[38;5;124m\"\u001b[39m\u001b[38;5;124mas_index\u001b[39m\u001b[38;5;124m\"\u001b[39m, \u001b[38;5;28;01mTrue\u001b[39;00m, condition\u001b[38;5;241m=\u001b[39m\u001b[38;5;28mhasattr\u001b[39m(obj, \u001b[38;5;124m\"\u001b[39m\u001b[38;5;124mas_index\u001b[39m\u001b[38;5;124m\"\u001b[39m)\n\u001b[0;32m   1387\u001b[0m ):\n\u001b[1;32m-> 1388\u001b[0m     result_index, result_data \u001b[38;5;241m=\u001b[39m \u001b[38;5;28;43mself\u001b[39;49m\u001b[38;5;241;43m.\u001b[39;49m\u001b[43mcompute_dict_like\u001b[49m\u001b[43m(\u001b[49m\n\u001b[0;32m   1389\u001b[0m \u001b[43m        \u001b[49m\u001b[43mop_name\u001b[49m\u001b[43m,\u001b[49m\u001b[43m \u001b[49m\u001b[43mselected_obj\u001b[49m\u001b[43m,\u001b[49m\u001b[43m \u001b[49m\u001b[43mselection\u001b[49m\u001b[43m,\u001b[49m\u001b[43m \u001b[49m\u001b[43mkwargs\u001b[49m\n\u001b[0;32m   1390\u001b[0m \u001b[43m    \u001b[49m\u001b[43m)\u001b[49m\n\u001b[0;32m   1391\u001b[0m result \u001b[38;5;241m=\u001b[39m \u001b[38;5;28mself\u001b[39m\u001b[38;5;241m.\u001b[39mwrap_results_dict_like(selected_obj, result_index, result_data)\n\u001b[0;32m   1392\u001b[0m \u001b[38;5;28;01mreturn\u001b[39;00m result\n",
      "File \u001b[1;32m~\\AppData\\Local\\Programs\\Python\\Python311\\Lib\\site-packages\\pandas\\core\\apply.py:445\u001b[0m, in \u001b[0;36mApply.compute_dict_like\u001b[1;34m(self, op_name, selected_obj, selection, kwargs)\u001b[0m\n\u001b[0;32m    443\u001b[0m is_groupby \u001b[38;5;241m=\u001b[39m \u001b[38;5;28misinstance\u001b[39m(obj, (DataFrameGroupBy, SeriesGroupBy))\n\u001b[0;32m    444\u001b[0m func \u001b[38;5;241m=\u001b[39m cast(AggFuncTypeDict, \u001b[38;5;28mself\u001b[39m\u001b[38;5;241m.\u001b[39mfunc)\n\u001b[1;32m--> 445\u001b[0m func \u001b[38;5;241m=\u001b[39m \u001b[38;5;28;43mself\u001b[39;49m\u001b[38;5;241;43m.\u001b[39;49m\u001b[43mnormalize_dictlike_arg\u001b[49m\u001b[43m(\u001b[49m\u001b[43mop_name\u001b[49m\u001b[43m,\u001b[49m\u001b[43m \u001b[49m\u001b[43mselected_obj\u001b[49m\u001b[43m,\u001b[49m\u001b[43m \u001b[49m\u001b[43mfunc\u001b[49m\u001b[43m)\u001b[49m\n\u001b[0;32m    447\u001b[0m is_non_unique_col \u001b[38;5;241m=\u001b[39m (\n\u001b[0;32m    448\u001b[0m     selected_obj\u001b[38;5;241m.\u001b[39mndim \u001b[38;5;241m==\u001b[39m \u001b[38;5;241m2\u001b[39m\n\u001b[0;32m    449\u001b[0m     \u001b[38;5;129;01mand\u001b[39;00m selected_obj\u001b[38;5;241m.\u001b[39mcolumns\u001b[38;5;241m.\u001b[39mnunique() \u001b[38;5;241m<\u001b[39m \u001b[38;5;28mlen\u001b[39m(selected_obj\u001b[38;5;241m.\u001b[39mcolumns)\n\u001b[0;32m    450\u001b[0m )\n\u001b[0;32m    452\u001b[0m \u001b[38;5;28;01mif\u001b[39;00m selected_obj\u001b[38;5;241m.\u001b[39mndim \u001b[38;5;241m==\u001b[39m \u001b[38;5;241m1\u001b[39m:\n\u001b[0;32m    453\u001b[0m     \u001b[38;5;66;03m# key only used for output\u001b[39;00m\n",
      "File \u001b[1;32m~\\AppData\\Local\\Programs\\Python\\Python311\\Lib\\site-packages\\pandas\\core\\apply.py:639\u001b[0m, in \u001b[0;36mApply.normalize_dictlike_arg\u001b[1;34m(self, how, obj, func)\u001b[0m\n\u001b[0;32m    637\u001b[0m     cols \u001b[38;5;241m=\u001b[39m Index(\u001b[38;5;28mlist\u001b[39m(func\u001b[38;5;241m.\u001b[39mkeys()))\u001b[38;5;241m.\u001b[39mdifference(obj\u001b[38;5;241m.\u001b[39mcolumns, sort\u001b[38;5;241m=\u001b[39m\u001b[38;5;28;01mTrue\u001b[39;00m)\n\u001b[0;32m    638\u001b[0m     \u001b[38;5;28;01mif\u001b[39;00m \u001b[38;5;28mlen\u001b[39m(cols) \u001b[38;5;241m>\u001b[39m \u001b[38;5;241m0\u001b[39m:\n\u001b[1;32m--> 639\u001b[0m         \u001b[38;5;28;01mraise\u001b[39;00m \u001b[38;5;167;01mKeyError\u001b[39;00m(\u001b[38;5;124mf\u001b[39m\u001b[38;5;124m\"\u001b[39m\u001b[38;5;124mColumn(s) \u001b[39m\u001b[38;5;132;01m{\u001b[39;00m\u001b[38;5;28mlist\u001b[39m(cols)\u001b[38;5;132;01m}\u001b[39;00m\u001b[38;5;124m do not exist\u001b[39m\u001b[38;5;124m\"\u001b[39m)\n\u001b[0;32m    641\u001b[0m aggregator_types \u001b[38;5;241m=\u001b[39m (\u001b[38;5;28mlist\u001b[39m, \u001b[38;5;28mtuple\u001b[39m, \u001b[38;5;28mdict\u001b[39m)\n\u001b[0;32m    643\u001b[0m \u001b[38;5;66;03m# if we have a dict of any non-scalars\u001b[39;00m\n\u001b[0;32m    644\u001b[0m \u001b[38;5;66;03m# eg. {'A' : ['mean']}, normalize all to\u001b[39;00m\n\u001b[0;32m    645\u001b[0m \u001b[38;5;66;03m# be list-likes\u001b[39;00m\n\u001b[0;32m    646\u001b[0m \u001b[38;5;66;03m# Cannot use func.values() because arg may be a Series\u001b[39;00m\n",
      "\u001b[1;31mKeyError\u001b[0m: \"Column(s) ['CST_NO'] do not exist\""
     ]
    }
   ],
   "source": [
    "a = FETCH_DATA()\n",
    "a = a[pd.to_datetime(a[\"CREA_DATE\"]).dt.date \n",
    "                              > pd.to_datetime('2024-01-01').date()]\n",
    "DATABASE = r\"Z:\\跨部門\\共用資料夾\\C. 業務部\\詢價統計DB\\QUOTATION_DATABASE.db\"\n",
    "def qutoe_data_fetch(customer_code):\n",
    "    with sqlite3.connect(DATABASE) as connection :\n",
    "        cursor = connection.cursor()\n",
    "        query = f\"SELECT * FROM CUSTOMER_PRODUCT_SUMMARY WHERE CUSTOMER_CODE like '{customer_code}'\"\n",
    "        df = pd.read_sql_query(query, connection)\n",
    "    return df\n",
    "b = qutoe_data_fetch(\"D09000\")\n",
    "b[\"QUANTITY\"] = b[\"QUANTITY\"].replace(\"-\",\"100\").replace(\"0\",\"100\")\n",
    "\n",
    "order_sum = a.groupby(\"CST_PART_NO\").agg({\n",
    "    \"ORDER_QTY\" : \"sum\",\n",
    "    \"ORDER_WEIG\" : \"sum\",\n",
    "    \"CST_NO\" : \"first\"\n",
    "}).reset_index()\n",
    "\n",
    "print(order_sum)\n",
    "    \n",
    "    "
   ]
  },
  {
   "cell_type": "code",
   "execution_count": null,
   "id": "0d869d0f",
   "metadata": {},
   "outputs": [],
   "source": [
    "index = 0\n",
    "aggregated = a.groupby(\"CST_PART_NO\").agg({\"ORDER_QTY\": \"sum\", \"ORDER_WEIG\": \"sum\"}).reset_index()\n",
    "\n",
    "# Merge aggregated data back to quotation_sum\n",
    "quotation_sum = quotation_sum.merge(aggregated, left_on = \"PRODUCT_CODE\", right_on = \"CST_PART_NO\")\n",
    "quotation_sum[\"ORDER_RATIO\"] = quotation_sum[\"ORDER_QTY\"]/quotation_sum[\"QUANTITY\"]\n",
    "print(quotation_sum)\n",
    "\n",
    "\n",
    "\n"
   ]
  },
  {
   "cell_type": "code",
   "execution_count": 28,
   "id": "a7d7583c",
   "metadata": {},
   "outputs": [
    {
     "name": "stdout",
     "output_type": "stream",
     "text": [
      "    QUANTITY    WEIGHT   CST_PART_NO  ORDER_QTY  ORDER_WEIG  ORDER_RATIO\n",
      "0      780.0    2964.0    CB3BLG158R      320.0      1216.0     0.410256\n",
      "1     1080.0    2754.0  CB3BLGHL114R      540.0      1377.0     0.500000\n",
      "2      600.0    1410.0     CBSDQ106R      300.0       705.0     0.500000\n",
      "3      610.0    2196.0     CBSDQ138R      300.0      1080.0     0.491803\n",
      "4    16500.0   54450.0     CBSDQ158R     3900.0     12870.0     0.236364\n",
      "5     3100.0   16756.0    CBSDQL214R     2700.0     14580.0     0.870968\n",
      "6    50400.0   83664.0      DWC114PR    15120.0     25099.2     0.300000\n",
      "7    26040.0   51626.4      DWC158PR     7000.0     14420.0     0.268817\n",
      "8    17150.0   45447.5        DWC2PR     1500.0      3975.0     0.087464\n",
      "9     6300.0   10962.0     DWC3930PR     1900.0      3477.0     0.301587\n",
      "10    1000.0    1450.0     DWF3525PR      500.0       725.0     0.500000\n",
      "11    4990.0   13029.6    DWFSD178PR      400.0      1040.0     0.080160\n",
      "12     510.0    2244.0    DWFSD238PR      110.0       484.0     0.215686\n",
      "13     750.0    1372.5   DWFSDQ114PR      750.0      1372.5     1.000000\n",
      "14   63580.0  111756.6       MTH114R    15580.0     27576.6     0.245046\n",
      "15    1860.0    2752.8        MTHZ1R      640.0       947.2     0.344086\n",
      "16    6750.0   18225.0       WSC112R     1500.0      4050.0     0.222222\n",
      "17    8640.0   20217.6    WSC114R-17     1920.0      4492.8     0.222222\n",
      "18    1000.0    2340.0       WSC32ER      480.0      1108.8     0.480000\n",
      "19   64600.0  309434.0     WSCT2123R    19800.0     94842.0     0.306502\n",
      "20    2000.0    3840.0      WSF1LRVR      250.0       480.0     0.125000\n",
      "21    9840.0   56580.0     WSNTLU33R     1920.0     11040.0     0.195122\n",
      "22   69300.0  331947.0      WSTD212R    33000.0    158070.0     0.476190\n",
      "23   72900.0  278437.5        WSV2TR    36450.0    138510.0     0.500000\n"
     ]
    }
   ],
   "source": [
    "quotation_sum[\"ORDER_RATIO\"] = quotation_sum[\"ORDER_QTY\"]/quotation_sum[\"QUANTITY\"]\n",
    "print(quotation_sum)"
   ]
  },
  {
   "cell_type": "code",
   "execution_count": 29,
   "id": "f2a6239b",
   "metadata": {},
   "outputs": [],
   "source": [
    "quotation_sum.to_excel(\"D040_summary.xlsx\")"
   ]
  },
  {
   "cell_type": "code",
   "execution_count": null,
   "id": "59eb3ae8",
   "metadata": {},
   "outputs": [],
   "source": []
  }
 ],
 "metadata": {
  "kernelspec": {
   "display_name": "Python 3 (ipykernel)",
   "language": "python",
   "name": "python3"
  },
  "language_info": {
   "codemirror_mode": {
    "name": "ipython",
    "version": 3
   },
   "file_extension": ".py",
   "mimetype": "text/x-python",
   "name": "python",
   "nbconvert_exporter": "python",
   "pygments_lexer": "ipython3",
   "version": "3.11.1"
  }
 },
 "nbformat": 4,
 "nbformat_minor": 5
}
