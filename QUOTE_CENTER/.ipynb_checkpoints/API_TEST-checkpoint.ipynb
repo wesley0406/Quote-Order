{
 "cells": [
  {
   "cell_type": "code",
   "execution_count": null,
   "id": "13ca9193",
   "metadata": {},
   "outputs": [],
   "source": [
    "import pathlib\n",
    "import connexion\n",
    "from flask_sqlalchemy import SQLAlchemy\n",
    "from flask_marshmallow import Marshmallow\n",
    "\n",
    "DATABASE = \"Z:\\跨部門\\共用資料夾\\C. 業務部\\詢價統計DB\\QUOTATION_DATABASE.db\""
   ]
  },
  {
   "cell_type": "code",
   "execution_count": null,
   "id": "dbab3e7e",
   "metadata": {},
   "outputs": [],
   "source": [
    "from flask import Flask\n",
    "import sqlite3\n",
    "\n",
    "app = Flask(__name__)\n",
    "\n",
    "@app.route('/hello/', methods=['GET'])\n",
    "def FETCH_ALL_DATA():\n",
    "    with sqlite3.connect(DATABASE) as connection :\n",
    "        query = \"SELECT * FROM CUSTOMER_PRODUCT_SUMMARY\" \n",
    "        df = pd.read_sql_query(query, connection)\n",
    "#     return \"There are {} lines of DATA\".format(df.shape[0])\n",
    "    return \"hello w\"\n",
    "\n",
    "if __name__ == '__main__':\n",
    "    app.run(host='0.0.0.0', port=105)"
   ]
  },
  {
   "cell_type": "code",
   "execution_count": null,
   "id": "196d3221",
   "metadata": {},
   "outputs": [],
   "source": []
  }
 ],
 "metadata": {
  "kernelspec": {
   "display_name": "Python 3 (ipykernel)",
   "language": "python",
   "name": "python3"
  },
  "language_info": {
   "codemirror_mode": {
    "name": "ipython",
    "version": 3
   },
   "file_extension": ".py",
   "mimetype": "text/x-python",
   "name": "python",
   "nbconvert_exporter": "python",
   "pygments_lexer": "ipython3",
   "version": "3.11.1"
  }
 },
 "nbformat": 4,
 "nbformat_minor": 5
}
