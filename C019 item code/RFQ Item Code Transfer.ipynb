{
 "cells": [
  {
   "cell_type": "code",
   "execution_count": 11,
   "id": "d94554a5-8e3e-4aaa-a7ff-d22181ab9d3b",
   "metadata": {
    "scrolled": true
   },
   "outputs": [
    {
     "data": {
      "text/html": [
       "<div>\n",
       "<style scoped>\n",
       "    .dataframe tbody tr th:only-of-type {\n",
       "        vertical-align: middle;\n",
       "    }\n",
       "\n",
       "    .dataframe tbody tr th {\n",
       "        vertical-align: top;\n",
       "    }\n",
       "\n",
       "    .dataframe thead th {\n",
       "        text-align: right;\n",
       "    }\n",
       "</style>\n",
       "<table border=\"1\" class=\"dataframe\">\n",
       "  <thead>\n",
       "    <tr style=\"text-align: right;\">\n",
       "      <th></th>\n",
       "      <th>新產品代號</th>\n",
       "      <th>舊產品代號</th>\n",
       "    </tr>\n",
       "  </thead>\n",
       "  <tbody>\n",
       "    <tr>\n",
       "      <th>0</th>\n",
       "      <td>007504.00106</td>\n",
       "      <td>07504.016</td>\n",
       "    </tr>\n",
       "    <tr>\n",
       "      <th>1</th>\n",
       "      <td>007504.00107</td>\n",
       "      <td>07504.019</td>\n",
       "    </tr>\n",
       "    <tr>\n",
       "      <th>2</th>\n",
       "      <td>007504.00108</td>\n",
       "      <td>07504.301</td>\n",
       "    </tr>\n",
       "    <tr>\n",
       "      <th>3</th>\n",
       "      <td>015480.00100</td>\n",
       "      <td>07504.014</td>\n",
       "    </tr>\n",
       "    <tr>\n",
       "      <th>4</th>\n",
       "      <td>015481.00104</td>\n",
       "      <td>07504.015</td>\n",
       "    </tr>\n",
       "    <tr>\n",
       "      <th>5</th>\n",
       "      <td>015482.00104</td>\n",
       "      <td>07504.016</td>\n",
       "    </tr>\n",
       "  </tbody>\n",
       "</table>\n",
       "</div>"
      ],
      "text/plain": [
       "          新產品代號      舊產品代號\n",
       "0  007504.00106  07504.016\n",
       "1  007504.00107  07504.019\n",
       "2  007504.00108  07504.301\n",
       "3  015480.00100  07504.014\n",
       "4  015481.00104  07504.015\n",
       "5  015482.00104  07504.016"
      ]
     },
     "execution_count": 11,
     "metadata": {},
     "output_type": "execute_result"
    }
   ],
   "source": [
    "import pandas as pd\n",
    "import os\n",
    "\n",
    "# Step 1: Read the C019 Orginal RFQ File\n",
    "Quote_Date = 20250203\n",
    "RFQ_NO = 6001003359\n",
    "Base_Path = r\"Z:\\業務部\\業務一課\\G-報價\\1. 外銷\\C01900 Reyher\\2025\"\n",
    "RFQ_File_Name = f\"_RFQ_6001003359_20250204_081628.xlsx\"\n",
    "RFQ_Fie_Path = os.path.join(Base_Path,f\"{Quote_Date} {RFQ_NO}\",RFQ_File_Name)\n",
    "DF_Original_RFQ = pd.read_excel(RFQ_Fie_Path, sheet_name=\"RFQ positions\", skiprows=9)\n",
    "\n",
    "# Step 2: Extract text before the second '.' for product new product series\n",
    "RFQ_col_name = \"Material\"\n",
    "if RFQ_col_name in DF_Original_RFQ.columns:\n",
    "    DF_Original_RFQ[\"original_category\"] = DF_Original_RFQ[RFQ_col_name].astype(str).apply(lambda x: \".\".join(x.split(\".\")[:2]))\n",
    "\n",
    "# Step 3: Get the previous product series\n",
    "Category_Compare_File_Path = r\"Z:\\業務部\\業務一課\\G-報價\\1. 外銷\\C01900 Reyher\\2025\\C019 新舊產品代號對照表_Caysie.xlsx\"\n",
    "# DF_Item_Series = pd.read_excel(Category_Compare_File_Path, sheet_name=\"Total\", dtype={\"新產品代號\": str})\n",
    "DF_Item_Series = pd.read_excel(Category_Compare_File_Path, sheet_name=None, dtype=str)\n",
    "\n",
    "# Step 4: replace original_category with 舊產品代號 and names as old_category\n",
    "for num, Item_Category in DF_Original_RFQ[\"original_category\"].items():\n",
    "    for idx, Original_Category in DF_Item_Series[\"新產品代號\"].items():  \n",
    "        if Item_Category == Original_Category:\n",
    "            DF_Original_RFQ.at[num, \"old_category\"] = DF_Item_Series.at[idx, \"舊產品代號\"]\n",
    "\n",
    "# Step 5: Get the previous item code for DB running\n",
    "if col_name in DF_Original_RFQ.columns:\n",
    "    DF_Original_RFQ[\"material_suffix\"] = DF_Original_RFQ[col_name].astype(str).apply(lambda x: \".\".join(x.split(\".\")[2:]))\n",
    "    DF_Original_RFQ[\"previous_item_code\"] = DF_Original_RFQ[\"old_category\"].astype(str) + \".\" + DF_Original_RFQ[\"material_suffix\"]\n",
    "    \n",
    "    # Reorder columns to place \"previous_item_code\" next to \"Material\"\n",
    "    cols = DF_Original_RFQ.columns.tolist()\n",
    "    cols.insert(cols.index(\"Material\") + 1, cols.pop(cols.index(\"previous_item_code\")))\n",
    "    DF_Original_RFQ = DF_Original_RFQ[cols]\n",
    "\n",
    "\n",
    "\n"
   ]
  },
  {
   "cell_type": "code",
   "execution_count": 24,
   "id": "19fbbf7b-63ef-41d5-a712-e2cf9dc209ff",
   "metadata": {},
   "outputs": [],
   "source": [
    "import sqlite3\n",
    "\n",
    "# Connect to DB\n",
    "DB_File_Path = r\"Z:\\跨部門\\共用資料夾\\C. 業務部\\詢價統計DB\\QUOTATION_DATABASE.db\"\n",
    "with sqlite3.connect(DB_File_Path) as connect : \n",
    "    query = \"SELECT PRODUCT_CODE FROM CUSTOMER_PRODUCT_SUMMARY WHERE CUSTOMER_CODE = 'C01900'\"\n",
    "    DF_DB = pd.read_sql_query(query, connect)"
   ]
  },
  {
   "cell_type": "code",
   "execution_count": 66,
   "id": "3ed9cc00-00c5-49e7-9b8a-43a397b0859d",
   "metadata": {},
   "outputs": [
    {
     "name": "stderr",
     "output_type": "stream",
     "text": [
      "C:\\Users\\sales6\\AppData\\Local\\Temp\\ipykernel_19208\\4007292447.py:15: FutureWarning: Setting an item of incompatible dtype is deprecated and will raise an error in a future version of pandas. Value '00965.301.0040.008' has dtype incompatible with int64, please explicitly cast to a compatible dtype first.\n",
      "  DF_Codes.loc[num, \"SEARCHING_CODE\"] = final_material\n"
     ]
    }
   ],
   "source": [
    "# Ensure PRODUCT_CODE is a set for fast lookups\n",
    "product_code_set = set(DF_DB[\"PRODUCT_CODE\"].astype(str))\n",
    "\n",
    "# Check existence of original code first than the previous code, to get searching code for SP TOOL BOX running\n",
    "def check_existence(DF_Codes):\n",
    "    DF_Codes[\"SEARCHING_CODE\"] = 0  \n",
    "\n",
    "    for num, row in DF_Codes.iterrows():\n",
    "        material = str(row[\"Material\"])\n",
    "        final_material = str(row[\"previous_item_code\"])\n",
    "        \n",
    "        if material in product_code_set:\n",
    "            DF_Codes.loc[num, \"SEARCHING_CODE\"] = material\n",
    "        elif final_material in product_code_set:\n",
    "            DF_Codes.loc[num, \"SEARCHING_CODE\"] = final_material\n",
    "        else: \n",
    "            DF_Codes.loc[num, \"SEARCHING_CODE\"] = \"Not found\"\n",
    "\n",
    "    return DF_Codes\n",
    "\n",
    "# # Apply function and get final DF\n",
    "DF_Final = check_existence(DF_Original_RFQ)\n",
    "\n",
    "# Save the result to a new Excel file (overwrite existing file)\n",
    "output_file = os.path.join(Base_Path,f\"{Quote_Date} {RFQ_NO}\", f\"Updated_RFQ.xlsx\")\n",
    "\n",
    "selected_columns = [\"Item\", \"Material\", \"previous_item_code\", \"Description\", \n",
    "                    \"RFQ Quantity\", \"Package Qty\", \"SEARCHING_CODE\"]\n",
    "\n",
    "if os.path.exists(output_file):\n",
    "    os.remove(output_file)\n",
    "\n",
    "DF_Final[selected_columns].to_excel(output_file, index=False)\n",
    "\n",
    "# print(\"File successfully saved:\", output_file)"
   ]
  },
  {
   "cell_type": "code",
   "execution_count": null,
   "id": "06b6e788-160f-4d81-b831-41d7ea864ddf",
   "metadata": {},
   "outputs": [],
   "source": []
  },
  {
   "cell_type": "code",
   "execution_count": null,
   "id": "e20fc8c1-effe-4062-9d98-5c813b750521",
   "metadata": {},
   "outputs": [],
   "source": []
  }
 ],
 "metadata": {
  "kernelspec": {
   "display_name": "Python 3 (ipykernel)",
   "language": "python",
   "name": "python3"
  },
  "language_info": {
   "codemirror_mode": {
    "name": "ipython",
    "version": 3
   },
   "file_extension": ".py",
   "mimetype": "text/x-python",
   "name": "python",
   "nbconvert_exporter": "python",
   "pygments_lexer": "ipython3",
   "version": "3.11.1"
  },
  "widgets": {
   "application/vnd.jupyter.widget-state+json": {
    "state": {},
    "version_major": 2,
    "version_minor": 0
   }
  }
 },
 "nbformat": 4,
 "nbformat_minor": 5
}
