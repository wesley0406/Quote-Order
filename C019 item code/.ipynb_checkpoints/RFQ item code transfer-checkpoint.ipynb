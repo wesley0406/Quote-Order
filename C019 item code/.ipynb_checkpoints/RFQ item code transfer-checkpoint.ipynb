{
 "cells": [
  {
   "cell_type": "code",
   "execution_count": 1,
   "id": "d94554a5-8e3e-4aaa-a7ff-d22181ab9d3b",
   "metadata": {
    "scrolled": true
   },
   "outputs": [],
   "source": [
    "import pandas as pd\n",
    "\n",
    "# Step 1: Read the first Excel file\n",
    "file_path1 = r\"RFQ.xlsx\"\n",
    "df1 = pd.read_excel(file_path1, sheet_name=\"工作表1\")\n",
    "\n",
    "# Step 2: Extract text before the second '.'\n",
    "col_name = \"Material\"\n",
    "if col_name in df1.columns:\n",
    "    df1[\"original_category\"] = df1[col_name].astype(str).apply(lambda x: \".\".join(x.split(\".\")[:2]))\n",
    "\n",
    "# Step 3: Read the second Excel file\n",
    "file_path2 = r\"新舊產品代號對照.xlsx\"\n",
    "df2 = pd.read_excel(file_path2, sheet_name=\"Total\", dtype={\"新產品代號\": str})\n",
    "\n",
    "# Step 4: replace original_category with 舊產品代號 and names as old_category\n",
    "for num, item_category in df1[\"original_category\"].items():\n",
    "    for idx, new_cat in df2[\"新產品代號\"].items():  \n",
    "        if item_category == new_cat:\n",
    "            df1.at[num, \"old_category\"] = df2.at[idx, \"舊產品代號\"]\n",
    "\n",
    "# Step 5: Correct \"final_material\" concatenation\n",
    "if col_name in df1.columns:\n",
    "    df1[\"material_suffix\"] = df1[col_name].astype(str).apply(lambda x: \".\".join(x.split(\".\")[2:]))\n",
    "    df1[\"final_material\"] = df1[\"old_category\"].astype(str) + \".\" + df1[\"material_suffix\"]\n",
    "    \n",
    "    # Reorder columns to place \"final_material\" next to \"Material\"\n",
    "    cols = df1.columns.tolist()\n",
    "    material_index = cols.index(\"Material\")\n",
    "    cols.insert(material_index + 1, cols.pop(cols.index(\"final_material\")))\n",
    "    df1 = df1[cols]\n",
    "\n",
    "\n"
   ]
  },
  {
   "cell_type": "code",
   "execution_count": 2,
   "id": "19fbbf7b-63ef-41d5-a712-e2cf9dc209ff",
   "metadata": {},
   "outputs": [],
   "source": [
    "import sqlite3\n",
    "\n",
    "DB_file_path3 = r\"Z:\\跨部門\\共用資料夾\\C. 業務部\\詢價統計DB\\QUOTATION_DATABASE.db\"\n",
    "with sqlite3.connect(DB_file_path3) as connect : \n",
    "    query = \"SELECT PRODUCT_CODE FROM CUSTOMER_PRODUCT_SUMMARY WHERE CUSTOMER_CODE = 'C01900'\"\n",
    "    DF_DB = pd.read_sql_query(query, connect)"
   ]
  },
  {
   "cell_type": "code",
   "execution_count": 28,
   "id": "3ed9cc00-00c5-49e7-9b8a-43a397b0859d",
   "metadata": {},
   "outputs": [],
   "source": [
    "import os\n",
    "\n",
    "# File paths\n",
    "file_path4 = r\"Updated_RFQ.xlsx\"\n",
    "output_file = r\"Updated_RFQ.xlsx\"\n",
    "\n",
    "# Read DF_RFQ (df4)\n",
    "df4 = pd.read_excel(file_path4, sheet_name=\"Sheet1\", dtype=str)\n",
    "\n",
    "# Ensure PRODUCT_CODE is a set for fast lookups\n",
    "product_code_set = set(DF_DB[\"PRODUCT_CODE\"].astype(str))\n",
    "\n",
    "# Function to check existence\n",
    "def check_existence(DF_RFQ):\n",
    "    DF_RFQ[\"SEARCHING_CODE\"] = \"Not Found\"  # Default value\n",
    "\n",
    "    for num, row in DF_RFQ.iterrows():\n",
    "        material = str(row[\"Material\"])\n",
    "        final_material = str(row[\"final_material\"])\n",
    "        \n",
    "        if material in product_code_set:\n",
    "            DF_RFQ.loc[num, \"SEARCHING_CODE\"] = material\n",
    "        elif final_material in product_code_set:\n",
    "            DF_RFQ.loc[num, \"SEARCHING_CODE\"] = final_material\n",
    "\n",
    "    return DF_RFQ\n",
    "\n",
    "#Apply function\n",
    "df4 = check_existence(df4)\n",
    "\n",
    "# Save the result to a new Excel file (overwrite existing file)\n",
    "if os.path.exists(output_file):\n",
    "    os.remove(output_file)\n",
    "\n",
    "df4.to_excel(output_file, index=False)\n",
    "\n",
    "# print(\"File successfully saved:\", output_file)"
   ]
  },
  {
   "cell_type": "code",
   "execution_count": null,
   "id": "1f5eb2f4-5066-4b94-87bb-7ef3f935efe0",
   "metadata": {},
   "outputs": [],
   "source": []
  }
 ],
 "metadata": {
  "kernelspec": {
   "display_name": "Python 3 (ipykernel)",
   "language": "python",
   "name": "python3"
  },
  "language_info": {
   "codemirror_mode": {
    "name": "ipython",
    "version": 3
   },
   "file_extension": ".py",
   "mimetype": "text/x-python",
   "name": "python",
   "nbconvert_exporter": "python",
   "pygments_lexer": "ipython3",
   "version": "3.11.1"
  }
 },
 "nbformat": 4,
 "nbformat_minor": 5
}
