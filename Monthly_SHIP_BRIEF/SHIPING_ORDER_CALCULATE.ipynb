{
 "cells": [
  {
   "cell_type": "code",
   "execution_count": 13,
   "id": "c301f60e",
   "metadata": {
    "scrolled": true
   },
   "outputs": [
    {
     "data": {
      "text/html": [
       "<div>\n",
       "<style scoped>\n",
       "    .dataframe tbody tr th:only-of-type {\n",
       "        vertical-align: middle;\n",
       "    }\n",
       "\n",
       "    .dataframe tbody tr th {\n",
       "        vertical-align: top;\n",
       "    }\n",
       "\n",
       "    .dataframe thead th {\n",
       "        text-align: right;\n",
       "    }\n",
       "</style>\n",
       "<table border=\"1\" class=\"dataframe\">\n",
       "  <thead>\n",
       "    <tr style=\"text-align: right;\">\n",
       "      <th></th>\n",
       "      <th>Order_weight(MT)</th>\n",
       "    </tr>\n",
       "    <tr>\n",
       "      <th>客戶代號</th>\n",
       "      <th></th>\n",
       "    </tr>\n",
       "  </thead>\n",
       "  <tbody>\n",
       "    <tr>\n",
       "      <th>D01200</th>\n",
       "      <td>93485.04</td>\n",
       "    </tr>\n",
       "    <tr>\n",
       "      <th>C00600</th>\n",
       "      <td>42817.38</td>\n",
       "    </tr>\n",
       "    <tr>\n",
       "      <th>C01900</th>\n",
       "      <td>16588.64</td>\n",
       "    </tr>\n",
       "    <tr>\n",
       "      <th>D09000</th>\n",
       "      <td>16066.56</td>\n",
       "    </tr>\n",
       "    <tr>\n",
       "      <th>C03400</th>\n",
       "      <td>10473.95</td>\n",
       "    </tr>\n",
       "    <tr>\n",
       "      <th>D04000</th>\n",
       "      <td>2703.00</td>\n",
       "    </tr>\n",
       "    <tr>\n",
       "      <th>D04001</th>\n",
       "      <td>2086.20</td>\n",
       "    </tr>\n",
       "  </tbody>\n",
       "</table>\n",
       "</div>"
      ],
      "text/plain": [
       "        Order_weight(MT)\n",
       "客戶代號                    \n",
       "D01200          93485.04\n",
       "C00600          42817.38\n",
       "C01900          16588.64\n",
       "D09000          16066.56\n",
       "C03400          10473.95\n",
       "D04000           2703.00\n",
       "D04001           2086.20"
      ]
     },
     "execution_count": 13,
     "metadata": {},
     "output_type": "execute_result"
    }
   ],
   "source": [
    "import pandas as pd\n",
    "data = pd.read_csv(\"SSL0710Q_20240122082345.csv\")\n",
    "data[\"Order_weight(MT)\"] = data[\"接單重量(KGS)\"].map(lambda x : float(x.replace(\",\",\"\")))\n",
    "CHART_SOURCE = data[[\"客戶代號\", \"Order_weight(MT)\"]].copy()\n",
    "FINAL_TABLE = CHART_SOURCE[[\"Order_weight(MT)\", \"客戶代號\"]].groupby(\"客戶代號\").sum()\n",
    "FINAL_TABLE.sort_values(by = [\"Order_weight(MT)\"], ascending=False)"
   ]
  },
  {
   "cell_type": "code",
   "execution_count": 8,
   "id": "740198a1",
   "metadata": {},
   "outputs": [
    {
     "data": {
      "text/plain": [
       "2"
      ]
     },
     "execution_count": 8,
     "metadata": {},
     "output_type": "execute_result"
    }
   ],
   "source": [
    "a= [[1, 2], [3, 4]]\n",
    "a[0][1]"
   ]
  },
  {
   "cell_type": "markdown",
   "id": "eedcaade",
   "metadata": {},
   "source": [
    "統計今年各月出貨重量"
   ]
  },
  {
   "cell_type": "code",
   "execution_count": 3,
   "id": "ae53a274",
   "metadata": {},
   "outputs": [],
   "source": [
    "def TRAN_DATE(days) :\n",
    "    DATE_LIST = days.split(\"/\")\n",
    "    if len(DATE_LIST[1]) < 2 :\n",
    "        DATE_LIST[1] = \"0\" + DATE_LIST[1]\n",
    "    return \"{}_{}\".format(DATE_LIST[0], DATE_LIST[1])\n",
    "        "
   ]
  },
  {
   "cell_type": "code",
   "execution_count": 4,
   "id": "1fc045c8",
   "metadata": {},
   "outputs": [
    {
     "data": {
      "text/html": [
       "<div>\n",
       "<style scoped>\n",
       "    .dataframe tbody tr th:only-of-type {\n",
       "        vertical-align: middle;\n",
       "    }\n",
       "\n",
       "    .dataframe tbody tr th {\n",
       "        vertical-align: top;\n",
       "    }\n",
       "\n",
       "    .dataframe thead th {\n",
       "        text-align: right;\n",
       "    }\n",
       "</style>\n",
       "<table border=\"1\" class=\"dataframe\">\n",
       "  <thead>\n",
       "    <tr style=\"text-align: right;\">\n",
       "      <th></th>\n",
       "      <th>Order_weight(MT)</th>\n",
       "    </tr>\n",
       "    <tr>\n",
       "      <th>Order_Monthly</th>\n",
       "      <th></th>\n",
       "    </tr>\n",
       "  </thead>\n",
       "  <tbody>\n",
       "    <tr>\n",
       "      <th>2025_01</th>\n",
       "      <td>264.17630</td>\n",
       "    </tr>\n",
       "    <tr>\n",
       "      <th>2025_02</th>\n",
       "      <td>303.44134</td>\n",
       "    </tr>\n",
       "    <tr>\n",
       "      <th>2025_03</th>\n",
       "      <td>605.03173</td>\n",
       "    </tr>\n",
       "    <tr>\n",
       "      <th>2025_04</th>\n",
       "      <td>404.63774</td>\n",
       "    </tr>\n",
       "    <tr>\n",
       "      <th>2025_05</th>\n",
       "      <td>399.93548</td>\n",
       "    </tr>\n",
       "    <tr>\n",
       "      <th>2025_06</th>\n",
       "      <td>107.85160</td>\n",
       "    </tr>\n",
       "    <tr>\n",
       "      <th>2025_07</th>\n",
       "      <td>57.78670</td>\n",
       "    </tr>\n",
       "    <tr>\n",
       "      <th>2025_08</th>\n",
       "      <td>43.85990</td>\n",
       "    </tr>\n",
       "  </tbody>\n",
       "</table>\n",
       "</div>"
      ],
      "text/plain": [
       "               Order_weight(MT)\n",
       "Order_Monthly                  \n",
       "2025_01               264.17630\n",
       "2025_02               303.44134\n",
       "2025_03               605.03173\n",
       "2025_04               404.63774\n",
       "2025_05               399.93548\n",
       "2025_06               107.85160\n",
       "2025_07                57.78670\n",
       "2025_08                43.85990"
      ]
     },
     "execution_count": 4,
     "metadata": {},
     "output_type": "execute_result"
    }
   ],
   "source": [
    "import pandas as pd\n",
    "\n",
    "data = pd.read_csv(\"SDL0800Q_20240122083731.csv\")\n",
    "data[\"Order_weight(MT)\"] = data[\"訂單重量(KG)\"].map(lambda x : float(x.replace(\",\",\"\"))*0.001)\n",
    "CHART_SOURCE = data[[\"Order_weight(MT)\", \"訂單交期\"]].copy()\n",
    "CHART_SOURCE[\"Order_Monthly\"] = CHART_SOURCE[\"訂單交期\"].apply(TRAN_DATE)\n",
    "FINAL_TABLE = CHART_SOURCE[[\"Order_weight(MT)\", \"Order_Monthly\"]].groupby(\"Order_Monthly\").sum()\n",
    "FINAL_TABLE\n"
   ]
  },
  {
   "cell_type": "code",
   "execution_count": 5,
   "id": "761ef446",
   "metadata": {
    "scrolled": true
   },
   "outputs": [
    {
     "name": "stdout",
     "output_type": "stream",
     "text": [
      "TOTAL_WEIGHT :  2186.7207900000003\n"
     ]
    }
   ],
   "source": [
    "print(\"TOTAL_WEIGHT : \",CHART_SOURCE[\"Order_weight(MT)\"].sum())"
   ]
  },
  {
   "cell_type": "markdown",
   "id": "5170fee4",
   "metadata": {},
   "source": [
    "以下為統計期間各公司訂單總金額"
   ]
  },
  {
   "cell_type": "code",
   "execution_count": 6,
   "id": "35732d38",
   "metadata": {},
   "outputs": [],
   "source": [
    "data.rename(columns={data.columns[3]:\"Company\"}, inplace = True)\n",
    "INCOME_SOURCE = data[[\"下單客戶\", \"Company\", \"訂單金額\", \"幣別\"]].copy()\n",
    "INCOME_SOURCE[\"訂單金額\"] = INCOME_SOURCE[\"訂單金額\"].map(lambda x : float(x.replace(\",\",\"\")))\n",
    "END_INCOME = INCOME_SOURCE.groupby(\"Company\").sum()\n",
    "END_INCOME[\"幣別\"] = END_INCOME[\"幣別\"].map(lambda x : x[:3] if len(x) > 3 else x )\n",
    "END_INCOME[\"下單客戶\"] = END_INCOME[\"下單客戶\"].map(lambda x : x[:4] if len(x) > 3 else x )"
   ]
  },
  {
   "cell_type": "code",
   "execution_count": 7,
   "id": "bc17e9ca",
   "metadata": {
    "scrolled": true
   },
   "outputs": [
    {
     "name": "stderr",
     "output_type": "stream",
     "text": [
      "C:\\Users\\wesley\\AppData\\Local\\Temp\\ipykernel_17908\\78456481.py:3: FutureWarning: Series.__getitem__ treating keys as positions is deprecated. In a future version, integer keys will always be treated as labels (consistent with DataFrame behavior). To access a value by position, use `ser.iloc[pos]`\n",
      "  if END_INCOME[\"幣別\"][i] == \"USD\":\n",
      "C:\\Users\\wesley\\AppData\\Local\\Temp\\ipykernel_17908\\78456481.py:4: FutureWarning: Series.__getitem__ treating keys as positions is deprecated. In a future version, integer keys will always be treated as labels (consistent with DataFrame behavior). To access a value by position, use `ser.iloc[pos]`\n",
      "  NUM.append(int(END_INCOME[\"訂單金額\"][i]*30))\n",
      "C:\\Users\\wesley\\AppData\\Local\\Temp\\ipykernel_17908\\78456481.py:5: FutureWarning: Series.__getitem__ treating keys as positions is deprecated. In a future version, integer keys will always be treated as labels (consistent with DataFrame behavior). To access a value by position, use `ser.iloc[pos]`\n",
      "  elif END_INCOME[\"幣別\"][i] == \"EUR\" :\n",
      "C:\\Users\\wesley\\AppData\\Local\\Temp\\ipykernel_17908\\78456481.py:6: FutureWarning: Series.__getitem__ treating keys as positions is deprecated. In a future version, integer keys will always be treated as labels (consistent with DataFrame behavior). To access a value by position, use `ser.iloc[pos]`\n",
      "  NUM.append(int(END_INCOME[\"訂單金額\"][i]*32.5))\n"
     ]
    },
    {
     "data": {
      "text/html": [
       "<div>\n",
       "<style scoped>\n",
       "    .dataframe tbody tr th:only-of-type {\n",
       "        vertical-align: middle;\n",
       "    }\n",
       "\n",
       "    .dataframe tbody tr th {\n",
       "        vertical-align: top;\n",
       "    }\n",
       "\n",
       "    .dataframe thead th {\n",
       "        text-align: right;\n",
       "    }\n",
       "</style>\n",
       "<table border=\"1\" class=\"dataframe\">\n",
       "  <thead>\n",
       "    <tr style=\"text-align: right;\">\n",
       "      <th></th>\n",
       "      <th>下單客戶</th>\n",
       "      <th>訂單金額</th>\n",
       "      <th>幣別</th>\n",
       "      <th>TOTAL_VALUE(NTD)</th>\n",
       "    </tr>\n",
       "    <tr>\n",
       "      <th>Company</th>\n",
       "      <th></th>\n",
       "      <th></th>\n",
       "      <th></th>\n",
       "      <th></th>\n",
       "    </tr>\n",
       "  </thead>\n",
       "  <tbody>\n",
       "    <tr>\n",
       "      <th>NATIONAL NAIL</th>\n",
       "      <td>D092</td>\n",
       "      <td>3249544.24</td>\n",
       "      <td>USD</td>\n",
       "      <td>97486327</td>\n",
       "    </tr>\n",
       "    <tr>\n",
       "      <th>REYHER</th>\n",
       "      <td>C019</td>\n",
       "      <td>1030862.54</td>\n",
       "      <td>EUR</td>\n",
       "      <td>33503032</td>\n",
       "    </tr>\n",
       "    <tr>\n",
       "      <th>SIMPSON</th>\n",
       "      <td>D040</td>\n",
       "      <td>540866.00</td>\n",
       "      <td>USD</td>\n",
       "      <td>16225980</td>\n",
       "    </tr>\n",
       "    <tr>\n",
       "      <th>INTERCORP</th>\n",
       "      <td>D012</td>\n",
       "      <td>442293.96</td>\n",
       "      <td>USD</td>\n",
       "      <td>13268818</td>\n",
       "    </tr>\n",
       "    <tr>\n",
       "      <th>PGB</th>\n",
       "      <td>C006</td>\n",
       "      <td>282916.93</td>\n",
       "      <td>EUR</td>\n",
       "      <td>9194800</td>\n",
       "    </tr>\n",
       "    <tr>\n",
       "      <th>HUTTIG</th>\n",
       "      <td>D007</td>\n",
       "      <td>177685.32</td>\n",
       "      <td>USD</td>\n",
       "      <td>5330559</td>\n",
       "    </tr>\n",
       "    <tr>\n",
       "      <th>BOISE</th>\n",
       "      <td>D046</td>\n",
       "      <td>152340.48</td>\n",
       "      <td>USD</td>\n",
       "      <td>4570214</td>\n",
       "    </tr>\n",
       "    <tr>\n",
       "      <th>SUNCO</th>\n",
       "      <td>B035</td>\n",
       "      <td>101510.94</td>\n",
       "      <td>USD</td>\n",
       "      <td>3045328</td>\n",
       "    </tr>\n",
       "    <tr>\n",
       "      <th>BMD</th>\n",
       "      <td>D090</td>\n",
       "      <td>67579.20</td>\n",
       "      <td>USD</td>\n",
       "      <td>2027376</td>\n",
       "    </tr>\n",
       "    <tr>\n",
       "      <th>INDEX</th>\n",
       "      <td>C034</td>\n",
       "      <td>38524.00</td>\n",
       "      <td>USD</td>\n",
       "      <td>1155720</td>\n",
       "    </tr>\n",
       "    <tr>\n",
       "      <th>SIMPSON AB</th>\n",
       "      <td>D040</td>\n",
       "      <td>7704.40</td>\n",
       "      <td>USD</td>\n",
       "      <td>231132</td>\n",
       "    </tr>\n",
       "  </tbody>\n",
       "</table>\n",
       "</div>"
      ],
      "text/plain": [
       "               下單客戶        訂單金額   幣別  TOTAL_VALUE(NTD)\n",
       "Company                                               \n",
       "NATIONAL NAIL  D092  3249544.24  USD          97486327\n",
       "REYHER         C019  1030862.54  EUR          33503032\n",
       "SIMPSON        D040   540866.00  USD          16225980\n",
       "INTERCORP      D012   442293.96  USD          13268818\n",
       "PGB            C006   282916.93  EUR           9194800\n",
       "HUTTIG         D007   177685.32  USD           5330559\n",
       "BOISE          D046   152340.48  USD           4570214\n",
       "SUNCO          B035   101510.94  USD           3045328\n",
       "BMD            D090    67579.20  USD           2027376\n",
       "INDEX          C034    38524.00  USD           1155720\n",
       "SIMPSON AB     D040     7704.40  USD            231132"
      ]
     },
     "execution_count": 7,
     "metadata": {},
     "output_type": "execute_result"
    }
   ],
   "source": [
    "NUM = []\n",
    "for i in range(len(END_INCOME[\"幣別\"])) : \n",
    "    if END_INCOME[\"幣別\"][i] == \"USD\":\n",
    "        NUM.append(int(END_INCOME[\"訂單金額\"][i]*30))\n",
    "    elif END_INCOME[\"幣別\"][i] == \"EUR\" :\n",
    "        NUM.append(int(END_INCOME[\"訂單金額\"][i]*32.5))\n",
    "    elif END_INCOME[\"幣別\"][i] == \"SEK\" :\n",
    "        NUM.append(int(END_INCOME[\"訂單金額\"][i]*2.8))\n",
    "    else :\n",
    "        NUM.append(END_INCOME[\"訂單金額\"][i])\n",
    "END_INCOME[\"TOTAL_VALUE(NTD)\"] = NUM\n",
    "END_INCOME.sort_values(by = [\"TOTAL_VALUE(NTD)\"], ascending=False)"
   ]
  },
  {
   "cell_type": "code",
   "execution_count": 8,
   "id": "e0837adc",
   "metadata": {},
   "outputs": [
    {
     "name": "stdout",
     "output_type": "stream",
     "text": [
      "今年度目前營業額 :  186039286\n"
     ]
    }
   ],
   "source": [
    "print(\"今年度目前營業額 : \", END_INCOME[\"TOTAL_VALUE(NTD)\"].sum())"
   ]
  },
  {
   "cell_type": "code",
   "execution_count": null,
   "id": "27103d2a",
   "metadata": {},
   "outputs": [],
   "source": []
  }
 ],
 "metadata": {
  "kernelspec": {
   "display_name": "Python 3 (ipykernel)",
   "language": "python",
   "name": "python3"
  },
  "language_info": {
   "codemirror_mode": {
    "name": "ipython",
    "version": 3
   },
   "file_extension": ".py",
   "mimetype": "text/x-python",
   "name": "python",
   "nbconvert_exporter": "python",
   "pygments_lexer": "ipython3",
   "version": "3.11.1"
  }
 },
 "nbformat": 4,
 "nbformat_minor": 5
}
