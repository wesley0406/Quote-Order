{
 "cells": [
  {
   "cell_type": "code",
   "execution_count": 1,
   "id": "12ffb573",
   "metadata": {},
   "outputs": [
    {
     "data": {
      "text/html": [
       "<div>\n",
       "<style scoped>\n",
       "    .dataframe tbody tr th:only-of-type {\n",
       "        vertical-align: middle;\n",
       "    }\n",
       "\n",
       "    .dataframe tbody tr th {\n",
       "        vertical-align: top;\n",
       "    }\n",
       "\n",
       "    .dataframe thead th {\n",
       "        text-align: right;\n",
       "    }\n",
       "</style>\n",
       "<table border=\"1\" class=\"dataframe\">\n",
       "  <thead>\n",
       "    <tr style=\"text-align: right;\">\n",
       "      <th></th>\n",
       "      <th>卷號</th>\n",
       "      <th>材質</th>\n",
       "      <th>線徑</th>\n",
       "      <th>鋼種</th>\n",
       "      <th>卷重</th>\n",
       "      <th>不良原因</th>\n",
       "    </tr>\n",
       "  </thead>\n",
       "  <tbody>\n",
       "    <tr>\n",
       "      <th>0</th>\n",
       "      <td>F24070764</td>\n",
       "      <td>1022A</td>\n",
       "      <td>2.60</td>\n",
       "      <td>JSW印鋼</td>\n",
       "      <td>62.0</td>\n",
       "      <td>線縫</td>\n",
       "    </tr>\n",
       "    <tr>\n",
       "      <th>1</th>\n",
       "      <td>F24061772</td>\n",
       "      <td>A10B21</td>\n",
       "      <td>5.60</td>\n",
       "      <td>中龍鋼</td>\n",
       "      <td>63.0</td>\n",
       "      <td>線縫</td>\n",
       "    </tr>\n",
       "    <tr>\n",
       "      <th>2</th>\n",
       "      <td>F24081591</td>\n",
       "      <td>1022A</td>\n",
       "      <td>4.38</td>\n",
       "      <td>澳森鋼</td>\n",
       "      <td>67.0</td>\n",
       "      <td>線縫</td>\n",
       "    </tr>\n",
       "    <tr>\n",
       "      <th>3</th>\n",
       "      <td>F24061841</td>\n",
       "      <td>1022A</td>\n",
       "      <td>3.37</td>\n",
       "      <td>JSW印鋼</td>\n",
       "      <td>79.0</td>\n",
       "      <td>線縫</td>\n",
       "    </tr>\n",
       "    <tr>\n",
       "      <th>4</th>\n",
       "      <td>F24041665</td>\n",
       "      <td>1022A</td>\n",
       "      <td>4.90</td>\n",
       "      <td>JSW印鋼</td>\n",
       "      <td>87.0</td>\n",
       "      <td>線縫</td>\n",
       "    </tr>\n",
       "  </tbody>\n",
       "</table>\n",
       "</div>"
      ],
      "text/plain": [
       "          卷號      材質    線徑     鋼種    卷重 不良原因\n",
       "0  F24070764   1022A  2.60  JSW印鋼  62.0   線縫\n",
       "1  F24061772  A10B21  5.60    中龍鋼  63.0   線縫\n",
       "2  F24081591   1022A  4.38    澳森鋼  67.0   線縫\n",
       "3  F24061841   1022A  3.37  JSW印鋼  79.0   線縫\n",
       "4  F24041665   1022A  4.90  JSW印鋼  87.0   線縫"
      ]
     },
     "execution_count": 1,
     "metadata": {},
     "output_type": "execute_result"
    }
   ],
   "source": [
    "import pandas as pd\n",
    "data = pd.read_excel(\"雄台不良品-20241021.xlsx\")\n",
    "organixed_data = data[[\"線徑\", \"卷重\"]].groupbyu(\"線徑\").sum()\n",
    "organixed_data"
   ]
  },
  {
   "cell_type": "code",
   "execution_count": null,
   "id": "4ce0e27c",
   "metadata": {},
   "outputs": [],
   "source": []
  }
 ],
 "metadata": {
  "kernelspec": {
   "display_name": "Python 3 (ipykernel)",
   "language": "python",
   "name": "python3"
  },
  "language_info": {
   "codemirror_mode": {
    "name": "ipython",
    "version": 3
   },
   "file_extension": ".py",
   "mimetype": "text/x-python",
   "name": "python",
   "nbconvert_exporter": "python",
   "pygments_lexer": "ipython3",
   "version": "3.11.1"
  }
 },
 "nbformat": 4,
 "nbformat_minor": 5
}
